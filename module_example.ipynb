{
 "cells": [
  {
   "cell_type": "markdown",
   "id": "973a3fd8-bb62-48ad-8be4-f11360449dc0",
   "metadata": {},
   "source": [
    "# 1. Functions"
   ]
  },
  {
   "cell_type": "code",
   "execution_count": 1,
   "id": "5de0a086-53d8-4ec6-8a9a-06b1b48a6598",
   "metadata": {},
   "outputs": [],
   "source": [
    "def fib(n):    # write Fibonacci series up to n\n",
    "    a, b = 0, 1\n",
    "    while a < n:\n",
    "        print(a, end=' ')\n",
    "        a, b = b, a+b\n",
    "    print()\n",
    "\n",
    "def fib2(n):   # return Fibonacci series up to n\n",
    "    result = []\n",
    "    a, b = 0, 1\n",
    "    while a < n:\n",
    "        result.append(a)\n",
    "        a, b = b, a+b\n",
    "    return result"
   ]
  },
  {
   "cell_type": "code",
   "execution_count": 2,
   "id": "087f1a62-3ee3-4dd1-b974-2408cca1a3ed",
   "metadata": {},
   "outputs": [
    {
     "name": "stdout",
     "output_type": "stream",
     "text": [
      "0 1 1 2 3 5 8 \n"
     ]
    }
   ],
   "source": [
    "fib(10)"
   ]
  },
  {
   "cell_type": "code",
   "execution_count": 3,
   "id": "792b8c83-758f-4c85-9ed6-6fef7888516c",
   "metadata": {},
   "outputs": [
    {
     "data": {
      "text/plain": [
       "[0, 1, 1, 2, 3, 5, 8]"
      ]
     },
     "execution_count": 3,
     "metadata": {},
     "output_type": "execute_result"
    }
   ],
   "source": [
    "fib2(10)"
   ]
  },
  {
   "cell_type": "code",
   "execution_count": null,
   "id": "071105e0-b381-4619-8fab-163d03546d10",
   "metadata": {},
   "outputs": [],
   "source": []
  },
  {
   "cell_type": "markdown",
   "id": "1ea3a8fd-0a3b-4fd9-8c69-90ba2fb5fcf7",
   "metadata": {},
   "source": [
    "# 2. Create module 'fibo'"
   ]
  },
  {
   "cell_type": "code",
   "execution_count": 4,
   "id": "c7640099-4071-4341-be9b-100583e3885a",
   "metadata": {},
   "outputs": [],
   "source": [
    "%%bash\n",
    "\n",
    "fiboCode=\"\n",
    "''' Fibonacci numbers module '''\n",
    "\n",
    "def fib(n):    # write Fibonacci series up to n\n",
    "    a, b = 0, 1\n",
    "    while a < n:\n",
    "        print(a, end=' ')\n",
    "        a, b = b, a+b\n",
    "    print()\n",
    "\n",
    "def fib2(n):   # return Fibonacci series up to n\n",
    "    result = []\n",
    "    a, b = 0, 1\n",
    "    while a < n:\n",
    "        result.append(a)\n",
    "        a, b = b, a+b\n",
    "    return result\n",
    "\" \n",
    "\n",
    "echo \"$fiboCode\" > fibo.py"
   ]
  },
  {
   "cell_type": "markdown",
   "id": "b02f35b6-bf4c-4f90-8e4c-13c239fd252d",
   "metadata": {},
   "source": [
    "# Use module"
   ]
  },
  {
   "cell_type": "code",
   "execution_count": 5,
   "id": "4a5e6468-6eb1-4a6a-b380-2e7361835977",
   "metadata": {},
   "outputs": [
    {
     "data": {
      "text/plain": [
       "<module 'fibo' from '/home/oualid/Desktop/python_tutorial/micatutorial3/fibo.py'>"
      ]
     },
     "execution_count": 5,
     "metadata": {},
     "output_type": "execute_result"
    }
   ],
   "source": [
    "import fibo\n",
    "fibo"
   ]
  },
  {
   "cell_type": "code",
   "execution_count": 6,
   "id": "cf5f25ae-dea3-4da3-ad41-9f565b831155",
   "metadata": {},
   "outputs": [
    {
     "data": {
      "text/plain": [
       "['__builtins__',\n",
       " '__cached__',\n",
       " '__doc__',\n",
       " '__file__',\n",
       " '__loader__',\n",
       " '__name__',\n",
       " '__package__',\n",
       " '__spec__',\n",
       " 'fib',\n",
       " 'fib2']"
      ]
     },
     "execution_count": 6,
     "metadata": {},
     "output_type": "execute_result"
    }
   ],
   "source": [
    "dir(fibo)"
   ]
  },
  {
   "cell_type": "code",
   "execution_count": 7,
   "id": "e6d29b6f-6bda-4709-ac1e-4a5ea212ac31",
   "metadata": {},
   "outputs": [
    {
     "data": {
      "text/plain": [
       "'fibo'"
      ]
     },
     "execution_count": 7,
     "metadata": {},
     "output_type": "execute_result"
    }
   ],
   "source": [
    "fibo.__name__"
   ]
  },
  {
   "cell_type": "code",
   "execution_count": 8,
   "id": "bac29971-edd9-40ae-9e83-ea72bfbd7b06",
   "metadata": {},
   "outputs": [
    {
     "data": {
      "text/plain": [
       "' Fibonacci numbers module '"
      ]
     },
     "execution_count": 8,
     "metadata": {},
     "output_type": "execute_result"
    }
   ],
   "source": [
    "fibo.__doc__"
   ]
  },
  {
   "cell_type": "code",
   "execution_count": 9,
   "id": "27ebddf5-31a5-4b9e-927f-f6a7e3600d4e",
   "metadata": {},
   "outputs": [
    {
     "data": {
      "text/plain": [
       "''"
      ]
     },
     "execution_count": 9,
     "metadata": {},
     "output_type": "execute_result"
    }
   ],
   "source": [
    "fibo.__package__"
   ]
  },
  {
   "cell_type": "code",
   "execution_count": null,
   "id": "cc54b984-64a2-4f21-b4a7-43d5bbd94fd8",
   "metadata": {},
   "outputs": [],
   "source": []
  },
  {
   "cell_type": "markdown",
   "id": "3724720a-8eec-4ff6-a852-ac6aabc77e31",
   "metadata": {},
   "source": [
    "# Use module as scipt"
   ]
  },
  {
   "cell_type": "code",
   "execution_count": 10,
   "id": "c7b8a9b9-b21d-4a9c-858c-30b80aede4b5",
   "metadata": {},
   "outputs": [],
   "source": [
    "%%bash\n",
    "\n",
    "cp fibo.py fibo_script.py\n",
    "\n",
    "newCode=\"\n",
    "\n",
    "seqFibo = fib2(100)\n",
    "print(seqFibo)\n",
    "\n",
    "\" \n",
    "\n",
    "echo \"$newCode\" >> fibo_script.py"
   ]
  },
  {
   "cell_type": "code",
   "execution_count": 11,
   "id": "a72e67ca-a9a0-4fdb-b9f8-44fd7487319c",
   "metadata": {},
   "outputs": [
    {
     "name": "stdout",
     "output_type": "stream",
     "text": [
      "[0, 1, 1, 2, 3, 5, 8, 13, 21, 34, 55, 89]\n"
     ]
    }
   ],
   "source": [
    "!python fibo_script.py"
   ]
  },
  {
   "cell_type": "code",
   "execution_count": null,
   "id": "dbf67bc5-ecc6-440a-b51f-f0916404635b",
   "metadata": {},
   "outputs": [],
   "source": []
  },
  {
   "cell_type": "markdown",
   "id": "67c19542-bbd2-444b-9e76-2b749ce4f2a8",
   "metadata": {},
   "source": [
    "### This code runs when module is imported too"
   ]
  },
  {
   "cell_type": "code",
   "execution_count": 12,
   "id": "cabc639c-294a-48d5-9614-d1d5934a260b",
   "metadata": {},
   "outputs": [
    {
     "name": "stdout",
     "output_type": "stream",
     "text": [
      "[0, 1, 1, 2, 3, 5, 8, 13, 21, 34, 55, 89]\n"
     ]
    }
   ],
   "source": [
    "import fibo_script as newFibo "
   ]
  },
  {
   "cell_type": "code",
   "execution_count": 13,
   "id": "9a3f7232-6699-4d8a-9127-b3e0adc1e867",
   "metadata": {},
   "outputs": [
    {
     "data": {
      "text/plain": [
       "[0, 1, 1, 2, 3, 5, 8, 13, 21, 34, 55, 89]"
      ]
     },
     "execution_count": 13,
     "metadata": {},
     "output_type": "execute_result"
    }
   ],
   "source": [
    "newFibo.seqFibo"
   ]
  },
  {
   "cell_type": "code",
   "execution_count": null,
   "id": "acb4bcfa-d082-470e-bc5d-04171bc9975d",
   "metadata": {},
   "outputs": [],
   "source": []
  },
  {
   "cell_type": "markdown",
   "id": "edef7cf0-1e40-4502-bf54-0d604d665eab",
   "metadata": {},
   "source": [
    "### Fix"
   ]
  },
  {
   "cell_type": "code",
   "execution_count": 14,
   "id": "9939813e-8b90-4cdd-a436-2790d2c9e57a",
   "metadata": {},
   "outputs": [],
   "source": [
    "%%bash\n",
    "\n",
    "cp fibo.py fibo_fixed.py\n",
    "\n",
    "newCode=\"\n",
    "\n",
    "if __name__ == '__main__':\n",
    "    seqFibo = fib2(100)\n",
    "    print(seqFibo)\n",
    "\n",
    "\" \n",
    "\n",
    "echo \"$newCode\" >> fibo_fixed.py"
   ]
  },
  {
   "cell_type": "code",
   "execution_count": 15,
   "id": "91975773-74cf-4f23-a239-6a109e40d003",
   "metadata": {},
   "outputs": [
    {
     "name": "stdout",
     "output_type": "stream",
     "text": [
      "[0, 1, 1, 2, 3, 5, 8, 13, 21, 34, 55, 89]\n"
     ]
    }
   ],
   "source": [
    "!python fibo_fixed.py"
   ]
  },
  {
   "cell_type": "code",
   "execution_count": 16,
   "id": "8896f22b-5639-42d9-8d5c-829a9af8fdfb",
   "metadata": {},
   "outputs": [],
   "source": [
    "import fibo_fixed as fixedFibo # Nothing happens -> Good!"
   ]
  },
  {
   "cell_type": "code",
   "execution_count": null,
   "id": "7b37175c-4a0e-42db-938c-ab8f5907d0e7",
   "metadata": {},
   "outputs": [],
   "source": []
  },
  {
   "cell_type": "markdown",
   "id": "e7ef1726-ad5a-45ed-90ab-1d776b6c4570",
   "metadata": {},
   "source": [
    "### Improved"
   ]
  },
  {
   "cell_type": "code",
   "execution_count": 17,
   "id": "cdcffa95-316a-4573-bad5-263e942fd815",
   "metadata": {},
   "outputs": [],
   "source": [
    "%%bash\n",
    "\n",
    "cp fibo.py fibo_improved.py\n",
    "\n",
    "newCode=\"\n",
    "\n",
    "print('__name__ is', __name__)\n",
    "\n",
    "if __name__ == '__main__':\n",
    "    import sys\n",
    "    n = int(sys.argv[1])\n",
    "    seqFibo = fib2(n)\n",
    "    \n",
    "    \n",
    "    print(f'Command: {sys.argv[0]} {sys.argv[1]}')\n",
    "    print(seqFibo)\n",
    "\n",
    "\" \n",
    "\n",
    "echo \"$newCode\" >> fibo_improved.py"
   ]
  },
  {
   "cell_type": "code",
   "execution_count": 18,
   "id": "a44eef63-1187-452a-b88f-ee6ba30f00b9",
   "metadata": {},
   "outputs": [
    {
     "name": "stdout",
     "output_type": "stream",
     "text": [
      "__name__ is __main__\n",
      "Traceback (most recent call last):\n",
      "  File \"fibo_improved.py\", line 25, in <module>\n",
      "    n = int(sys.argv[1])\n",
      "IndexError: list index out of range\n"
     ]
    }
   ],
   "source": [
    "!python fibo_improved.py"
   ]
  },
  {
   "cell_type": "code",
   "execution_count": 19,
   "id": "38fcdf2d-c348-4e70-bb70-5225620bc71d",
   "metadata": {},
   "outputs": [
    {
     "name": "stdout",
     "output_type": "stream",
     "text": [
      "__name__ is __main__\n",
      "Command: fibo_improved.py 10\n",
      "[0, 1, 1, 2, 3, 5, 8]\n"
     ]
    }
   ],
   "source": [
    "!python fibo_improved.py 10"
   ]
  },
  {
   "cell_type": "code",
   "execution_count": 20,
   "id": "00569a41-0f17-409f-b0ac-390b0f29397c",
   "metadata": {},
   "outputs": [
    {
     "name": "stdout",
     "output_type": "stream",
     "text": [
      "__name__ is fibo_improved\n"
     ]
    }
   ],
   "source": [
    "import fibo_improved"
   ]
  },
  {
   "cell_type": "code",
   "execution_count": null,
   "id": "ee3f74fc-ea56-4d72-9c16-32092558ee60",
   "metadata": {},
   "outputs": [],
   "source": []
  }
 ],
 "metadata": {
  "kernelspec": {
   "display_name": "Python 3",
   "language": "python",
   "name": "python3"
  },
  "language_info": {
   "codemirror_mode": {
    "name": "ipython",
    "version": 3
   },
   "file_extension": ".py",
   "mimetype": "text/x-python",
   "name": "python",
   "nbconvert_exporter": "python",
   "pygments_lexer": "ipython3",
   "version": "3.7.10"
  }
 },
 "nbformat": 4,
 "nbformat_minor": 5
}
